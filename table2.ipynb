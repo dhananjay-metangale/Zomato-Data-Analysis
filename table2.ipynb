{
 "cells": [
  {
   "cell_type": "code",
   "execution_count": 1,
   "id": "e0e6f59b",
   "metadata": {},
   "outputs": [
    {
     "name": "stderr",
     "output_type": "stream",
     "text": [
      "C:\\Users\\harsh\\AppData\\Local\\Temp\\ipykernel_86892\\703474594.py:25: DeprecationWarning: executable_path has been deprecated, please pass in a Service object\n",
      "  driver = webdriver.Chrome(mychrome) # calling Chrome\n"
     ]
    },
    {
     "name": "stdout",
     "output_type": "stream",
     "text": [
      "401\n",
      "402\n"
     ]
    }
   ],
   "source": [
    "# Basic library of python\n",
    "import pandas as pd\n",
    "import numpy as np\n",
    "import requests\n",
    "import time\n",
    "import re\n",
    "\n",
    "# BeautifulSoup Library\n",
    "from bs4 import BeautifulSoup\n",
    "\n",
    "# library to join Url Urljoin\n",
    "from urllib.parse import urljoin\n",
    "\n",
    "# selenium Library\n",
    "import re\n",
    "from selenium import webdriver\n",
    "from selenium.webdriver.support.ui import WebDriverWait     \n",
    "from selenium.webdriver.common.by import By\n",
    "from selenium.webdriver.support import expected_conditions as EC\n",
    "from selenium.common.exceptions import NoSuchElementException\n",
    "\n",
    "my_headers = {'USER-AGENT':'Mozilla/5.0 (Windows NT 10.0; Win64; x64) AppleWebKit/537.36 (KHTML, like Gecko) Chrome/108.0.0.0 Safari/537.36'} # Header Initaialization\n",
    "\n",
    "mychrome = r'\"C:\\Users\\harsh\\Downloads\\chromedriver_win32\\chromedriver.exe\"' # Driver Initialization\n",
    "driver = webdriver.Chrome(mychrome) # calling Chrome\n",
    "# Initializing lists\n",
    "reviews_list = []    \n",
    "category_list = []\n",
    "dish_list = []\n",
    "price_list = []\n",
    "address_list =[]\n",
    "latlong_list = []\n",
    "zomato = pd.read_csv('Maintable.csv') # reading csv with links\n",
    "for j in range(401,403):\n",
    "    print(j)\n",
    "    try: # for handling exception we are putting entire code in Try&Except\n",
    "        driver.get(zomato['links'][j]) # itersting on every link in links column\n",
    "        soup = BeautifulSoup(driver.page_source,'html.parser') # calling for the html page_source\n",
    "        time.sleep(5)\n",
    "        review = driver.find_element(By.XPATH, '/html/body/div[1]/div/main/div/section[3]/section/section/div/div/div/section/div[3]/div[2]/div[1]').text\n",
    "        reviews_list.append(review) # adding the reviews scrapped above xpath in list\n",
    "        address_class = driver.find_elements(By.XPATH, '/html/body/div[1]/div/main/div/section[3]/section/section/div/div/section[1]/a')\n",
    "        for address in address_class:\n",
    "            address_list.append(address.text) # add address scrapped from above xpath in list\n",
    "\n",
    "        latlong_class = driver.find_elements(By.XPATH, '/html/body/div[1]/div/main/div/section[3]/div[1]/section/a') # scrapping on a tag since it consist of the urls\n",
    "        for link in latlong_class:\n",
    "            latlong_list.append(link.get_attribute('href')) # scrapping urls from a tag to get lat and long\n",
    "        time.sleep(2)\n",
    "        #print(reviews_list)\n",
    "        cat_list = []\n",
    "        for c in range(1,4):\n",
    "                category = driver.find_element(By.XPATH, f'/html/body/div[1]/div/main/div/section[4]/section/section[1]/p[{c}]').text # iterating on c since this xpath changes as category changes\n",
    "                cat_list.append(category)\n",
    "                category = driver.find_element(By.XPATH, f'/html/body/div[1]/div/main/div/section[4]/section/section[1]/p[{c}]').click()\n",
    "                time.sleep(3)\n",
    "                dishtemp = []\n",
    "                pricetemp = []\n",
    "                Alldish = driver.find_elements(by = By.TAG_NAME, value = 'h4') # scrappping h4 tag as it mostly consist of headings\n",
    "                for dish in Alldish:\n",
    "                    dishtemp.append(dish.text)\n",
    "                Allprice = driver.find_elements(By.XPATH, value = \"//span[@class='sc-17hyc2s-1 cCiQWA']\") # scrapping using span class\n",
    "                for price in Allprice:\n",
    "                    pricetemp.append(price.text)\n",
    "    except NoSuchElementException : # handling NoSuchElementException for restaurants with no category,dishes,price\n",
    "        cat_list.append('-')\n",
    "        dishtemp.append('-')\n",
    "        pricetemp.append('-')\n",
    "\n",
    "    dish_list.append(dishtemp) # appending the data stored as list from temporary list to final list\n",
    "    price_list.append(pricetemp)                                   \n",
    "    category_list.append(cat_list)\n",
    "       \n",
    "        \n",
    "        #print(category_list)#print(zomato['links'][0])"
   ]
  },
  {
   "cell_type": "code",
   "execution_count": 2,
   "id": "ea1f6d88",
   "metadata": {},
   "outputs": [],
   "source": [
    "New_add_list = address_list\n",
    "new_dish_list = dish_list\n",
    "newcatlist = category_list\n",
    "newrevlist = reviews_list\n",
    "newprilist = price_list\n",
    "newlatnlon = latlong_list "
   ]
  },
  {
   "cell_type": "code",
   "execution_count": 3,
   "id": "90747f4a",
   "metadata": {},
   "outputs": [],
   "source": [
    "table3_dataframe = pd.DataFrame({'Address': New_add_list,'latnlong': newlatnlon,'category': newcatlist,'Dishes': new_dish_list,'prices': newprilist,'Reviews': newrevlist})\n",
    "table3_dataframe.to_csv('table3_dataframe.csv') # creating DataFrame And Convering to CSV files "
   ]
  },
  {
   "cell_type": "code",
   "execution_count": 4,
   "id": "9a48dbf8",
   "metadata": {},
   "outputs": [
    {
     "data": {
      "text/html": [
       "<div>\n",
       "<style scoped>\n",
       "    .dataframe tbody tr th:only-of-type {\n",
       "        vertical-align: middle;\n",
       "    }\n",
       "\n",
       "    .dataframe tbody tr th {\n",
       "        vertical-align: top;\n",
       "    }\n",
       "\n",
       "    .dataframe thead th {\n",
       "        text-align: right;\n",
       "    }\n",
       "</style>\n",
       "<table border=\"1\" class=\"dataframe\">\n",
       "  <thead>\n",
       "    <tr style=\"text-align: right;\">\n",
       "      <th></th>\n",
       "      <th>Address</th>\n",
       "      <th>latnlong</th>\n",
       "      <th>category</th>\n",
       "      <th>Dishes</th>\n",
       "      <th>prices</th>\n",
       "      <th>Reviews</th>\n",
       "    </tr>\n",
       "  </thead>\n",
       "  <tbody>\n",
       "    <tr>\n",
       "      <th>0</th>\n",
       "      <td>Jeevan Bhima Nagar, Bangalore</td>\n",
       "      <td>https://www.google.com/maps/dir/?api=1&amp;destina...</td>\n",
       "      <td>[Today's Exclusive Dishes (2), Recommended (10...</td>\n",
       "      <td>[Today's Exclusive Dishes, Pav Bhaji with Chol...</td>\n",
       "      <td>[₹220, ₹280, ₹65, ₹69, ₹95, ₹175, ₹95, ₹25, ₹8...</td>\n",
       "      <td>3,034</td>\n",
       "    </tr>\n",
       "    <tr>\n",
       "      <th>1</th>\n",
       "      <td>Rajajinagar, Bangalore</td>\n",
       "      <td>https://www.google.com/maps/dir/?api=1&amp;destina...</td>\n",
       "      <td>[Recommended (5), Combos (6), Grilled Combos (1)]</td>\n",
       "      <td>[Recommended, Butterscotch Cake 800g, Imarati ...</td>\n",
       "      <td>[₹780, ₹600, ₹185, ₹800, ₹420, ₹200, ₹249, ₹24...</td>\n",
       "      <td>2,147</td>\n",
       "    </tr>\n",
       "  </tbody>\n",
       "</table>\n",
       "</div>"
      ],
      "text/plain": [
       "                         Address  \\\n",
       "0  Jeevan Bhima Nagar, Bangalore   \n",
       "1         Rajajinagar, Bangalore   \n",
       "\n",
       "                                            latnlong  \\\n",
       "0  https://www.google.com/maps/dir/?api=1&destina...   \n",
       "1  https://www.google.com/maps/dir/?api=1&destina...   \n",
       "\n",
       "                                            category  \\\n",
       "0  [Today's Exclusive Dishes (2), Recommended (10...   \n",
       "1  [Recommended (5), Combos (6), Grilled Combos (1)]   \n",
       "\n",
       "                                              Dishes  \\\n",
       "0  [Today's Exclusive Dishes, Pav Bhaji with Chol...   \n",
       "1  [Recommended, Butterscotch Cake 800g, Imarati ...   \n",
       "\n",
       "                                              prices Reviews  \n",
       "0  [₹220, ₹280, ₹65, ₹69, ₹95, ₹175, ₹95, ₹25, ₹8...   3,034  \n",
       "1  [₹780, ₹600, ₹185, ₹800, ₹420, ₹200, ₹249, ₹24...   2,147  "
      ]
     },
     "execution_count": 4,
     "metadata": {},
     "output_type": "execute_result"
    }
   ],
   "source": [
    "table3_dataframe"
   ]
  },
  {
   "cell_type": "code",
   "execution_count": null,
   "id": "2abde00a",
   "metadata": {},
   "outputs": [],
   "source": []
  }
 ],
 "metadata": {
  "kernelspec": {
   "display_name": "Python 3 (ipykernel)",
   "language": "python",
   "name": "python3"
  },
  "language_info": {
   "codemirror_mode": {
    "name": "ipython",
    "version": 3
   },
   "file_extension": ".py",
   "mimetype": "text/x-python",
   "name": "python",
   "nbconvert_exporter": "python",
   "pygments_lexer": "ipython3",
   "version": "3.9.13"
  }
 },
 "nbformat": 4,
 "nbformat_minor": 5
}
